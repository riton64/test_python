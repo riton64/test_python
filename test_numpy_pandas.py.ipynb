{
 "cells": [
  {
   "cell_type": "code",
   "execution_count": 1,
   "metadata": {},
   "outputs": [
    {
     "name": "stdout",
     "output_type": "stream",
     "text": [
      "hello world\n",
      "0\n",
      "1\n",
      "2\n"
     ]
    },
    {
     "name": "stderr",
     "output_type": "stream",
     "text": [
      "output on stderr\n"
     ]
    },
    {
     "name": "stdout",
     "output_type": "stream",
     "text": [
      "one more on stdout\n",
      "[0 1 2 3 4 5 6 7 8 9]\n",
      "[ 1  3  5  7  9 11 13 15 17 19]\n",
      "[ 3.40876404  1.31664929  1.15024689  0.5279602   0.43736445]\n",
      "[ 52.41727089+0.j           1.18157128-4.03838766j  -3.47362885+0.656105j\n",
      "  -2.57317465+0.40245424j]\n",
      "   x  y\n",
      "0  1  4\n",
      "1  2  5\n",
      "2  3  6\n"
     ]
    }
   ],
   "source": [
    "import sys\n",
    "import numpy as np\n",
    "import pandas as pd\n",
    "print('hello world', flush=True)\n",
    "for i in range(3):\n",
    "    print(i,flush=True)\n",
    "print('output on stderr',file=sys.stderr,flush=True)\n",
    "print('one more on stdout',flush=True)\n",
    "x = np.arange(10)\n",
    "print(x)\n",
    "print(x*2+1)\n",
    "M=np.random.rand(5,10)  # 5*10 random matrix\n",
    "u,s,v = np.linalg.svd(M)\n",
    "print(s)\n",
    "x=np.random.rand(100) # 100 std normal values\n",
    "X=np.fft.fft(x)\n",
    "print(X[:4])   # 4 premieres valeurs\n",
    "df = pd.DataFrame({'x':[1,2,3],\n",
    "                  'y':[4,5,6]})# affiche les lignes et les collones avec valeurs\n",
    "print(df)"
   ]
  },
  {
   "cell_type": "code",
   "execution_count": null,
   "metadata": {
    "collapsed": true
   },
   "outputs": [],
   "source": []
  }
 ],
 "metadata": {
  "kernelspec": {
   "display_name": "Python 3",
   "language": "python",
   "name": "python3"
  },
  "language_info": {
   "codemirror_mode": {
    "name": "ipython",
    "version": 3
   },
   "file_extension": ".py",
   "mimetype": "text/x-python",
   "name": "python",
   "nbconvert_exporter": "python",
   "pygments_lexer": "ipython3",
   "version": "3.6.1"
  }
 },
 "nbformat": 4,
 "nbformat_minor": 2
}
